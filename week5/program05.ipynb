{
 "cells": [
  {
   "cell_type": "code",
   "execution_count": null,
   "metadata": {},
   "outputs": [],
   "source": [
    "#q1\n",
    "import platform\n",
    "\n",
    "def get_operating_system():\n",
    "    system_info = platform.system()\n",
    "    return system_info\n",
    "\n",
    "if __name__ == \"__main__\":\n",
    "    os = get_operating_system()\n",
    "    print(f\"The operating system is: {os}\")\n"
   ]
  },
  {
   "cell_type": "code",
   "execution_count": null,
   "metadata": {},
   "outputs": [],
   "source": [
    "#q2\n",
    "import sys\n",
    "value = sys.argv[0: ]\n",
    "print(f\"There are {len(value)} number of arguments.\")\n"
   ]
  },
  {
   "cell_type": "code",
   "execution_count": null,
   "metadata": {},
   "outputs": [],
   "source": [
    "#q3\n",
    "import sys\n",
    "new_list = []\n",
    "value = sys.argv[1:]\n",
    "new_list.append(value)\n",
    "new_list.sort()\n",
    "print(\"The shortest value is: \",new_list)\n",
    "\n"
   ]
  },
  {
   "cell_type": "code",
   "execution_count": null,
   "metadata": {},
   "outputs": [],
   "source": [
    "#q4\n",
    "import sys\n",
    "import requests\n",
    "\n",
    "url = sys.argv[1]\n",
    "\n",
    "response = requests.get(url)\n",
    "print(response)\n"
   ]
  },
  {
   "cell_type": "code",
   "execution_count": null,
   "metadata": {},
   "outputs": [],
   "source": [
    "#q5\n",
    "import sys\n",
    "from statistics import mean\n",
    "def get(value):\n",
    "    try:\n",
    "        new_list = [float(temperature) for temperature in value]\n",
    "        \n",
    "        return new_list\n",
    "    \n",
    "    except EOFError:\n",
    "        print(\"Invalid input please try again.\")\n",
    "\n",
    "def calculate_max(temp):\n",
    "    # maximum = temp[0]\n",
    "    # for i in temp:\n",
    "    #     if i > maximum:\n",
    "    #         maximum = i\n",
    "\n",
    "    maximum = max(temp)\n",
    "\n",
    "    return maximum\n",
    "\n",
    "def calculate_min(temp):\n",
    "    # minimum = temp[0]\n",
    "    # for i in temp:\n",
    "    #     if i < minimum:\n",
    "    #         minimum = i\n",
    "\n",
    "    minimum = min(temp)\n",
    "\n",
    "    return minimum\n",
    "\n",
    "def caluculate_mean(temp):\n",
    "    # sums = sum(temp)\n",
    "    # means = sums / len(temp)\n",
    "    means = mean(temp)\n",
    "    return means\n",
    "\n",
    "def display(max, min, means):\n",
    "    print(\"The maximum value is: \",max)\n",
    "    print(\"The minimum value is: \",min)\n",
    "    print(\"The mean value is: \",means)\n",
    "\n",
    "\n",
    "if __name__ == \"__main__\":\n",
    "\n",
    "    if len(sys.argv ) >= 2:\n",
    "        value = sys.argv[1:]\n",
    "        temp = get(value)\n",
    "        \n",
    "    else:\n",
    "        print(\"Invalid input!!!\")\n",
    "\n",
    "    max = calculate_max(temp)\n",
    "    min = calculate_min(temp)\n",
    "    means = caluculate_mean(temp)\n",
    "    display(max, min, means)"
   ]
  },
  {
   "cell_type": "code",
   "execution_count": null,
   "metadata": {},
   "outputs": [],
   "source": [
    "#q6\n",
    "import sys\n",
    "import shutil\n",
    "\n",
    "def copy_file(file_name):\n",
    "    '''Copy file from one file to another.'''\n",
    "    shutil.copyfile(file_name, 'destination.txt')\n",
    "\n",
    "if __name__ == \"__main__\":\n",
    "    if len(sys.argv) < 2:\n",
    "        print(\"Invalid input\")\n",
    "\n",
    "    else:\n",
    "        file_name = sys.argv[1]\n",
    "    \n",
    "    copy_file(file_name)   \n"
   ]
  }
 ],
 "metadata": {
  "kernelspec": {
   "display_name": "Python 3",
   "language": "python",
   "name": "python3"
  },
  "language_info": {
   "codemirror_mode": {
    "name": "ipython",
    "version": 3
   },
   "file_extension": ".py",
   "mimetype": "text/x-python",
   "name": "python",
   "nbconvert_exporter": "python",
   "pygments_lexer": "ipython3",
   "version": "3.11.7"
  }
 },
 "nbformat": 4,
 "nbformat_minor": 2
}
