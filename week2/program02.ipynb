{
 "cells": [
  {
   "cell_type": "code",
   "execution_count": null,
   "metadata": {},
   "outputs": [],
   "source": [
    "#q1\n",
    "greeting = input(\"Hello, what is your name? \")\n",
    "print(f\"Hello, {greeting}. Good to meet you!\")\n"
   ]
  },
  {
   "cell_type": "code",
   "execution_count": null,
   "metadata": {},
   "outputs": [],
   "source": [
    "#q2\n",
    "temp_in_Celsius = float(input(\"Enter the temperature in Celsius: \"))\n",
    "temp_in_Fahrenheit = (temp_in_Celsius * 9/5) + 32\n",
    "print(\"The temperature in Faharenheit is: \",temp_in_Fahrenheit)"
   ]
  },
  {
   "cell_type": "code",
   "execution_count": null,
   "metadata": {},
   "outputs": [],
   "source": [
    "#q3\n",
    "no_of_students = int(input(\"Enter the number of students: \"))\n",
    "required_size = int(input(\"Enter the required group size: \"))\n",
    "no_of_groups = no_of_students // required_size\n",
    "left_over = no_of_students % required_size\n",
    "print(f\"There will be {no_of_groups} groups with {left_over} student left over.\")"
   ]
  },
  {
   "cell_type": "code",
   "execution_count": null,
   "metadata": {},
   "outputs": [],
   "source": [
    "#q4\n",
    "no_of_sweets = int(input(\"Enter the number of sweets you have: \"))\n",
    "no_of_students = int(input(\"Enter the number of students: \"))\n",
    "\n",
    "if no_of_sweets < no_of_students:\n",
    "    print(\"!!! Not enought sweets !!!\")\n",
    "\n",
    "else:\n",
    "    sweets_per_student = no_of_sweets // no_of_students\n",
    "    remainder = no_of_sweets % no_of_students\n",
    "    print(f\"The students will get {sweets_per_student} number of sweets each and you will have {remainder} number of remaining sweets.\")"
   ]
  }
 ],
 "metadata": {
  "kernelspec": {
   "display_name": "Python 3",
   "language": "python",
   "name": "python3"
  },
  "language_info": {
   "codemirror_mode": {
    "name": "ipython",
    "version": 3
   },
   "file_extension": ".py",
   "mimetype": "text/x-python",
   "name": "python",
   "nbconvert_exporter": "python",
   "pygments_lexer": "ipython3",
   "version": "3.11.7"
  }
 },
 "nbformat": 4,
 "nbformat_minor": 2
}
