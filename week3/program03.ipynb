{
 "cells": [
  {
   "cell_type": "code",
   "execution_count": null,
   "metadata": {},
   "outputs": [],
   "source": [
    "#q1\n",
    "greeting = input(\"Hello! What is you name: \")\n",
    "\n",
    "if greeting == \"\":\n",
    "    print(\"Hello, Stranger!\")\n",
    "\n",
    "else:\n",
    "    print(f\"Hello! {greeting}. How are you?\")\n"
   ]
  },
  {
   "cell_type": "code",
   "execution_count": null,
   "metadata": {},
   "outputs": [],
   "source": [
    "#q2\n",
    "new_password = input(\"Enter a new password: \")\n",
    "confirm_password = input(\"Confirm your password: \")\n",
    "\n",
    "if new_password == confirm_password:\n",
    "    print(\"Password Set\")\n",
    "\n",
    "else:\n",
    "    print(\"Error Password do not match\")\n"
   ]
  },
  {
   "cell_type": "code",
   "execution_count": null,
   "metadata": {},
   "outputs": [],
   "source": [
    "#q3\n",
    "new_password = input(\"Enter a new password: \")\n",
    "confirm_password = input(\"Confirm your password: \")\n",
    "\n",
    "if new_password == confirm_password and 8 < len(new_password) <= 12:\n",
    "    print(\"Password Set\")\n",
    "\n",
    "elif len(new_password) < 8 or len(new_password) >= 12:\n",
    "    print(\"Please use 8 to 12 characters for Password.\")\n",
    "\n",
    "elif new_password != confirm_password:\n",
    "    print(\"Error Password do not match\")"
   ]
  },
  {
   "cell_type": "code",
   "execution_count": null,
   "metadata": {},
   "outputs": [],
   "source": [
    "#q4\n",
    "new_password = input(\"Enter a new password: \")\n",
    "confirm_password = input(\"Confirm your password: \")\n",
    "\n",
    "if new_password == 'password' or 'letme' or 'same' or 'world' or 'Rihana':\n",
    "        print(\"This is a weak Password\")\n",
    "\n",
    "elif new_password == confirm_password and 8 < len(new_password) <= 12:\n",
    "    print(\"Password is Set\")\n",
    "\n",
    "elif len(new_password) <= 8 or len(new_password) >= 12:\n",
    "    print(\"Please use 8 to 12 characters for Password.\")\n",
    "\n",
    "elif new_password != confirm_password:\n",
    "    print(\"Error Password do not match\")"
   ]
  },
  {
   "cell_type": "code",
   "execution_count": null,
   "metadata": {},
   "outputs": [],
   "source": [
    "#q5\n",
    "a = 1\n",
    "while a == 1:\n",
    "    new_password = input(\"Enter a new password: \")\n",
    "    confirm_password = input(\"Confirm your password: \")\n",
    "\n",
    "    if new_password == 'password' or 'letme' or 'same' or 'world' or 'Rihana':\n",
    "            print(\"This is a weak Password\")\n",
    "\n",
    "    if new_password == confirm_password and 8 < len(new_password) <= 12:\n",
    "        print(\"Password is Set\")\n",
    "        break\n",
    "\n",
    "    if len(new_password) <= 8 or len(new_password) >= 12:\n",
    "        print(\"Please use 8 to 12 characters for Password.\")\n",
    "\n",
    "    if new_password != confirm_password:\n",
    "        print(\"Error Password do not match\")\n",
    "\n",
    "    confirmation = input(\"Do you want to redo it (Y/N): \")\n",
    "    confirmation.upper()\n",
    "\n",
    "    if confirmation == \"Y\":\n",
    "         continue\n",
    "    else:\n",
    "         print(\"Thank You for your time!\")\n",
    "         break"
   ]
  },
  {
   "cell_type": "code",
   "execution_count": null,
   "metadata": {},
   "outputs": [],
   "source": [
    "#q6\n",
    "for i in range (0,13):\n",
    "    multiplication = 7 * i\n",
    "    print(f\"7 x {i} = {multiplication} \")"
   ]
  },
  {
   "cell_type": "code",
   "execution_count": null,
   "metadata": {},
   "outputs": [],
   "source": [
    "#q7\n",
    "number = int(input(\"Enter a number: \"))\n",
    "for i in range (0,13):\n",
    "    multiplication = number * i\n",
    "    print(f\"{number} x {i} = {multiplication} \")\n"
   ]
  },
  {
   "cell_type": "code",
   "execution_count": null,
   "metadata": {},
   "outputs": [],
   "source": [
    "#q8\n",
    "number = int(input(\"Enter a number: \"))\n",
    "\n",
    "if number > 0:\n",
    "    for i in range (0,13):\n",
    "        multiplication = number * i\n",
    "        print(f\"{number} x {i} = {multiplication} \")\n",
    "\n",
    "elif number < 0:\n",
    "    for i in range (13, 0, -1):\n",
    "        multiplication = number * i\n",
    "        print(f\"{number} x {i} = {multiplication} \")"
   ]
  },
  {
   "cell_type": "code",
   "execution_count": null,
   "metadata": {},
   "outputs": [],
   "source": []
  }
 ],
 "metadata": {
  "kernelspec": {
   "display_name": "Python 3",
   "language": "python",
   "name": "python3"
  },
  "language_info": {
   "codemirror_mode": {
    "name": "ipython",
    "version": 3
   },
   "file_extension": ".py",
   "mimetype": "text/x-python",
   "name": "python",
   "nbconvert_exporter": "python",
   "pygments_lexer": "ipython3",
   "version": "3.11.7"
  }
 },
 "nbformat": 4,
 "nbformat_minor": 2
}
