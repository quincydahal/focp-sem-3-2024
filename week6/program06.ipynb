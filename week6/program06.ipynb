{
 "cells": [
  {
   "cell_type": "code",
   "execution_count": 2,
   "metadata": {},
   "outputs": [
    {
     "name": "stdout",
     "output_type": "stream",
     "text": [
      "1\n"
     ]
    }
   ],
   "source": [
    "#q1\n",
    "def conv(num):\n",
    "    c = ''\n",
    "    \n",
    "    while num != 0:\n",
    "        r = num / 2\n",
    "        num = num // 2\n",
    "        \n",
    "        if r == num:\n",
    "            number = '0'\n",
    "        else:\n",
    "            number = '1'\n",
    "            \n",
    "        c = number + c\n",
    "        \n",
    "    if c != '':\n",
    "        return c\n",
    "    \n",
    "    else:\n",
    "        return '0'\n",
    "    \n",
    "dec = int(input(\"Enter a number in decimal: \"))    \n",
    "print(conv(dec))"
   ]
  },
  {
   "cell_type": "code",
   "execution_count": 3,
   "metadata": {},
   "outputs": [
    {
     "name": "stdout",
     "output_type": "stream",
     "text": [
      "[1, 3]\n"
     ]
    }
   ],
   "source": [
    "#q2\n",
    "def integer(num):\n",
    "    factors = []\n",
    "    \n",
    "    for i in range(1, num+1):\n",
    "        if num % i == 0:\n",
    "            factors.append(i)\n",
    "    \n",
    "    return factors\n",
    "\n",
    "num = int(input(\"Enter a number: \"))\n",
    "print(integer(num))"
   ]
  },
  {
   "cell_type": "code",
   "execution_count": null,
   "metadata": {},
   "outputs": [],
   "source": [
    "#q3\n",
    "def integer(num):\n",
    "    factors = []\n",
    "    \n",
    "    for i in range(1, num+1):\n",
    "        if num % i == 0:\n",
    "            factors.append(i)\n",
    "    \n",
    "    return factors\n",
    "\n",
    "num = int(input(\"Enter a number: \"))\n",
    "factors = integer(num)\n",
    "\n",
    "if len(factors) == 2:\n",
    "    print(\"It is prime\")\n",
    "    \n",
    "elif len(factors) > 2:\n",
    "    print(\"It is composite\")\n",
    "\n",
    "else:\n",
    "    print(\"It is neither prime nor composite.\")"
   ]
  },
  {
   "cell_type": "code",
   "execution_count": 4,
   "metadata": {},
   "outputs": [
    {
     "name": "stdout",
     "output_type": "stream",
     "text": [
      "Encoded password is esuoh\n"
     ]
    }
   ],
   "source": [
    "#q4\n",
    "def encrypt(password):\n",
    "    new = ''\n",
    "    for i in password:\n",
    "        if i != ' ':\n",
    "            new = i + new\n",
    "    return new\n",
    "\n",
    "password = input(\"Enter a password: \")\n",
    "print(f\"Encoded password is {encrypt(password)}\")"
   ]
  },
  {
   "cell_type": "code",
   "execution_count": null,
   "metadata": {},
   "outputs": [],
   "source": [
    "#q5\n",
    "import random\n",
    "def hidden(word):\n",
    "    sum = ''\n",
    "    rand_num = random.randint(2, 20)\n",
    "    \n",
    "    for i in word:\n",
    "        rand_char = ''\n",
    "        \n",
    "        for j in range(rand_num):\n",
    "            \n",
    "            n = random.randint(1,2)\n",
    "            \n",
    "            if n == 1:\n",
    "                rand_char += chr(random.randint(97, 122))\n",
    "                \n",
    "            elif n == 2:\n",
    "                rand_char += chr(random.randint(65, 90))\n",
    "\n",
    "        if  i != ' ':\n",
    "            sum = sum + i + rand_char\n",
    "            \n",
    "        else:\n",
    "            sum += ' '\n",
    "    \n",
    "    new = sum[:-rand_num]\n",
    "    \n",
    "    return new, rand_num\n",
    "\n",
    "message = input(\"Enter a message: \")\n",
    "\n",
    "encrypted, value = hidden(message)\n",
    "\n",
    "print(encrypted)\n"
   ]
  },
  {
   "cell_type": "code",
   "execution_count": null,
   "metadata": {},
   "outputs": [],
   "source": [
    "#q6\n",
    "#this program only runs after running question no 5\n",
    "\n",
    "no_space = encrypted.split(\" \")\n",
    "\n",
    "word_list = []\n",
    "\n",
    "for num in range(len(no_space)):\n",
    "    word_list.append(no_space[num])\n",
    "\n",
    "new_word_list = []\n",
    "\n",
    "for k in word_list:\n",
    "    new = ''\n",
    "    for j in range(0, len(k), value+1):\n",
    "        new += k[j]\n",
    "    new_word_list.append(new)\n",
    "    \n",
    "decrypted = ' '.join(new_word_list)\n",
    "\n",
    "print(decrypted)"
   ]
  }
 ],
 "metadata": {
  "kernelspec": {
   "display_name": "Python 3",
   "language": "python",
   "name": "python3"
  },
  "language_info": {
   "codemirror_mode": {
    "name": "ipython",
    "version": 3
   },
   "file_extension": ".py",
   "mimetype": "text/x-python",
   "name": "python",
   "nbconvert_exporter": "python",
   "pygments_lexer": "ipython3",
   "version": "3.11.7"
  }
 },
 "nbformat": 4,
 "nbformat_minor": 2
}
