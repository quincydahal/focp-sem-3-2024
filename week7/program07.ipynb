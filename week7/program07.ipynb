{
 "cells": [
  {
   "cell_type": "code",
   "execution_count": 4,
   "metadata": {},
   "outputs": [
    {
     "name": "stdout",
     "output_type": "stream",
     "text": [
      "['e', 'n', 'o', 's']\n"
     ]
    }
   ],
   "source": [
    "#q1\n",
    "def sorter(s):\n",
    "    new_list = []\n",
    "    for i in s:\n",
    "        new_list.append(i)\n",
    "    new_list.sort()\n",
    "    \n",
    "    new_list = set(new_list)\n",
    "    \n",
    "    new_list = list(new_list)\n",
    "    \n",
    "    new_list.sort()\n",
    "        \n",
    "    return new_list\n",
    "\n",
    "x = input(\"Enter a string: \")\n",
    "y = sorter(x)\n",
    "print(y)"
   ]
  },
  {
   "cell_type": "code",
   "execution_count": 3,
   "metadata": {},
   "outputs": [
    {
     "name": "stdout",
     "output_type": "stream",
     "text": [
      "Union = ['a', 'd', 'e', 'h', 'l', 'm', 'n', 'o', 'r', 'w']\n",
      "Intersection = ['d', 'o']\n",
      "Symmetric Difference = ['a', 'e', 'h', 'l', 'm', 'n', 'r', 'w']\n"
     ]
    }
   ],
   "source": [
    "#q2\n",
    "def list_return(w1, w2):\n",
    "    word_1 = []\n",
    "    for i in w1:\n",
    "        word_1.append(i)\n",
    "        \n",
    "    word_2 = []\n",
    "    for i in w2:\n",
    "        word_2.append(i)\n",
    "        \n",
    "    return word_1, word_2    \n",
    "    \n",
    "\n",
    "def uni(w1, w2):\n",
    "    word1, word2 = list_return(w1, w2)\n",
    "    word1 = set(word1)\n",
    "    word2 = set(word2)\n",
    "    union = set.union(word1, word2)\n",
    "    union = list(union)\n",
    "    union.sort()\n",
    "    return union\n",
    "\n",
    "def inter(w1, w2):\n",
    "    word1, word2 = list_return(w1, w2)\n",
    "    word1 = set(word1)\n",
    "    word2 = set(word2)\n",
    "    intern = set.intersection(word1, word2)\n",
    "    intern = list(intern)\n",
    "    intern.sort()\n",
    "    return intern\n",
    "def sym_diff(w1, w2):\n",
    "    word1, word2 = list_return(w1, w2)\n",
    "    word1 = set(word1)\n",
    "    word2 = set(word2)\n",
    "    diff = set.symmetric_difference(word1, word2)\n",
    "    diff = list(diff)\n",
    "    diff.sort()\n",
    "    return diff\n",
    "\n",
    "w1 = input(\"Enter a word: \")\n",
    "w2 = input(\"Enter a word: \")\n",
    "\n",
    "print(f\"Union = {uni(w1, w2)}\")\n",
    "print(f\"Intersection = {inter(w1, w2)}\")\n",
    "print(f\"Symmetric Difference = {sym_diff(w1, w2)}\")\n"
   ]
  },
  {
   "cell_type": "code",
   "execution_count": 2,
   "metadata": {},
   "outputs": [
    {
     "name": "stdout",
     "output_type": "stream",
     "text": [
      "Kathmandu\n",
      "London\n"
     ]
    }
   ],
   "source": [
    "#q3\n",
    "countries_and_capitals = {\n",
    "            \"Nepal\" : \"Kathmandu\",\n",
    "            \"UK\" : \"London\",\n",
    "            \"France\" : \"\",\n",
    "            \"Poland\" : \"Warsaw\",\n",
    "            \"Germany\" : \"\",\n",
    "            \"Hungary\" : \"Budapest\"}\n",
    "\n",
    "while True:\n",
    "    country = input(\"Enter a country: \")\n",
    "\n",
    "    found = False\n",
    "\n",
    "    for i in countries_and_capitals:\n",
    "        \n",
    "        if i.lower() == country.lower():\n",
    "            \n",
    "            found = True\n",
    "            \n",
    "            if countries_and_capitals[i] == \"\":\n",
    "                capital = input(\"Enter capital: \")\n",
    "                \n",
    "            else:\n",
    "                print(countries_and_capitals[i])\n",
    "\n",
    "    if found == False:\n",
    "        print(\"Country not found\")\n",
    "    \n",
    "    cont = input(\"Continue?(y/n) \").lower()\n",
    "    \n",
    "    if cont == \"n\" or cont == \"no\":\n",
    "        break\n",
    "    \n",
    "    else:\n",
    "        continue\n",
    "    "
   ]
  },
  {
   "cell_type": "code",
   "execution_count": 1,
   "metadata": {},
   "outputs": [
    {
     "name": "stdout",
     "output_type": "stream",
     "text": [
      "m : 1\n",
      "a : 1\n",
      "n : 1\n",
      "g : 1\n",
      "o : 1\n"
     ]
    }
   ],
   "source": [
    "#4\n",
    "message = input(\"Enter a string: \").lower()\n",
    "words = []\n",
    "\n",
    "for i in message:\n",
    "    if (ord(i) >= 97 and ord(i) <= 122) or (ord(i) >= 65 and ord(i) <= 90):\n",
    "        words.append(i)\n",
    "    \n",
    "freq = {}\n",
    "\n",
    "for i in words:\n",
    "    freq[i] = freq.get(i, 0) + 1\n",
    "\n",
    "sorted_freq = sorted(freq.items(), key = lambda x : x[1], reverse = True)\n",
    "\n",
    "for i in range(min(6, len(sorted_freq))):\n",
    "    print(f\"{sorted_freq[i][0]} : {sorted_freq[i][1]}\")\n",
    "    \n",
    "    \n"
   ]
  }
 ],
 "metadata": {
  "kernelspec": {
   "display_name": "Python 3",
   "language": "python",
   "name": "python3"
  },
  "language_info": {
   "codemirror_mode": {
    "name": "ipython",
    "version": 3
   },
   "file_extension": ".py",
   "mimetype": "text/x-python",
   "name": "python",
   "nbconvert_exporter": "python",
   "pygments_lexer": "ipython3",
   "version": "3.11.7"
  }
 },
 "nbformat": 4,
 "nbformat_minor": 2
}
