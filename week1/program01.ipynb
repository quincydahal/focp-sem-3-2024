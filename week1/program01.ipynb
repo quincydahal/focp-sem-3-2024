{
 "cells": [
  {
   "cell_type": "code",
   "execution_count": 1,
   "metadata": {},
   "outputs": [
    {
     "name": "stdout",
     "output_type": "stream",
     "text": [
      "Hello World\n"
     ]
    }
   ],
   "source": [
    "#q1\n",
    "print(\"Hello World\")"
   ]
  },
  {
   "cell_type": "code",
   "execution_count": 2,
   "metadata": {},
   "outputs": [
    {
     "name": "stdout",
     "output_type": "stream",
     "text": [
      "Quincy Dahal\n"
     ]
    }
   ],
   "source": [
    "#q2\n",
    "print(\"Quincy Dahal\")"
   ]
  },
  {
   "cell_type": "code",
   "execution_count": 3,
   "metadata": {},
   "outputs": [
    {
     "name": "stdout",
     "output_type": "stream",
     "text": [
      "In celcius = 38.4 In farenheit = 101.12\n"
     ]
    }
   ],
   "source": [
    "#q3\n",
    "print(\"In celcius =\",38.4,\"In farenheit =\", ((9/5)*38.4)+32)"
   ]
  },
  {
   "cell_type": "code",
   "execution_count": 4,
   "metadata": {},
   "outputs": [
    {
     "name": "stdout",
     "output_type": "stream",
     "text": [
      "Boycott's batting average is 56.83802816901409 runs\n"
     ]
    }
   ],
   "source": [
    "#q4\n",
    "matches_played = 609\n",
    "times_batted = 1014\n",
    "times_not_out = 162\n",
    "runs_scored = 48426\n",
    "\n",
    "innings = times_batted - times_not_out\n",
    "average = runs_scored / innings\n",
    "\n",
    "print(f\"Boycott's batting average is {average} runs\")"
   ]
  },
  {
   "cell_type": "code",
   "execution_count": null,
   "metadata": {},
   "outputs": [],
   "source": [
    "#q5\n",
    "group1=113\n",
    "group2=175\n",
    "group3=12\n",
    "size=24\n",
    "\n",
    "l1=group1//size\n",
    "l1left=group1%size\n",
    "print(f\"groups {l1} and left over students is {l1left}\")\n",
    "\n",
    "l2=group2//size\n",
    "l2left=group2%size\n",
    "print(f\"groups {l2} and left over students is {l2left}\")\n",
    "\n",
    "l3=group3//size\n",
    "l3left=group3%size\n",
    "print(f\"groups {l3} and left over students is {l3left}\")\n"
   ]
  }
 ],
 "metadata": {
  "kernelspec": {
   "display_name": "Python 3",
   "language": "python",
   "name": "python3"
  },
  "language_info": {
   "codemirror_mode": {
    "name": "ipython",
    "version": 3
   },
   "file_extension": ".py",
   "mimetype": "text/x-python",
   "name": "python",
   "nbconvert_exporter": "python",
   "pygments_lexer": "ipython3",
   "version": "3.11.0"
  }
 },
 "nbformat": 4,
 "nbformat_minor": 2
}
